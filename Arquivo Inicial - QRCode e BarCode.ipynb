{
 "cells": [
  {
   "cell_type": "code",
   "execution_count": 2,
   "id": "254e5d0a",
   "metadata": {},
   "outputs": [
    {
     "data": {
      "text/plain": [
       "'codigo_barra.png'"
      ]
     },
     "execution_count": 2,
     "metadata": {},
     "output_type": "execute_result"
    }
   ],
   "source": [
    "#padrão de código de barra EAN13\n",
    "from barcode import EAN13\n",
    "from barcode.writer import ImageWriter\n",
    "\n",
    "codigo_barra = EAN13('123123123123', writer=ImageWriter())\n",
    "codigo_barra.save('codigo_barra')\n"
   ]
  },
  {
   "cell_type": "code",
   "execution_count": 3,
   "id": "9d331cde",
   "metadata": {},
   "outputs": [],
   "source": [
    "codigos_produtos = {\n",
    "    \"Feijao\": \"551746511111\",\n",
    "    \"Arroz\": \"665789011111\",\n",
    "    \"Macarrao\": \"665887111111\",\n",
    "    \"Azeite\": \"998556211111\"}\n",
    "\n",
    "for produto in codigos_produtos:\n",
    "    codigo = codigos_produtos[produto]\n",
    "    codigo_barra = EAN13(codigo, writer=ImageWriter())\n",
    "    codigo_barra.save(f'codigo_barra_{produto}')"
   ]
  },
  {
   "cell_type": "code",
   "execution_count": null,
   "id": "9121e932",
   "metadata": {},
   "outputs": [],
   "source": []
  }
 ],
 "metadata": {
  "kernelspec": {
   "display_name": "Python 3 (ipykernel)",
   "language": "python",
   "name": "python3"
  },
  "language_info": {
   "codemirror_mode": {
    "name": "ipython",
    "version": 3
   },
   "file_extension": ".py",
   "mimetype": "text/x-python",
   "name": "python",
   "nbconvert_exporter": "python",
   "pygments_lexer": "ipython3",
   "version": "3.9.13"
  }
 },
 "nbformat": 4,
 "nbformat_minor": 5
}
